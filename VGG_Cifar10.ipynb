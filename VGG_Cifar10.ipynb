{
  "nbformat": 4,
  "nbformat_minor": 0,
  "metadata": {
    "colab": {
      "name": "VGG-Cifar10.ipynb",
      "provenance": [],
      "authorship_tag": "ABX9TyN8mqsjTfwzdAQcqz1oRjHN",
      "include_colab_link": true
    },
    "kernelspec": {
      "name": "python3",
      "display_name": "Python 3"
    },
    "accelerator": "GPU"
  },
  "cells": [
    {
      "cell_type": "markdown",
      "metadata": {
        "id": "view-in-github",
        "colab_type": "text"
      },
      "source": [
        "<a href=\"https://colab.research.google.com/github/seowon98/DeepLearning/blob/master/VGG_Cifar10.ipynb\" target=\"_parent\"><img src=\"https://colab.research.google.com/assets/colab-badge.svg\" alt=\"Open In Colab\"/></a>"
      ]
    },
    {
      "cell_type": "code",
      "metadata": {
        "id": "19LDhZZDvDZd",
        "colab_type": "code",
        "colab": {}
      },
      "source": [
        "import torch\n",
        "import torch.nn as nn\n",
        "\n",
        "import torch.optim as optim\n",
        "\n",
        "import torchvision\n",
        "import torchvision.transforms as transforms"
      ],
      "execution_count": null,
      "outputs": []
    },
    {
      "cell_type": "code",
      "metadata": {
        "id": "Qz_8edHDvWXx",
        "colab_type": "code",
        "colab": {}
      },
      "source": [
        "\n",
        "def loss_tracker(loss_plot, loss_value, num):\n",
        "    '''num, loss_value, are Tensor'''\n",
        "    vis.line(X=num,\n",
        "             Y=loss_value,\n",
        "             win = loss_plot,\n",
        "             update='append'\n",
        "             )"
      ],
      "execution_count": null,
      "outputs": []
    },
    {
      "cell_type": "code",
      "metadata": {
        "id": "BjxlDYvdwURA",
        "colab_type": "code",
        "colab": {}
      },
      "source": [
        "device = 'cuda' if torch.cuda.is_available() else 'cpu'\n",
        "\n",
        "torch.manual_seed(777)\n",
        "if device =='cuda':\n",
        "    torch.cuda.manual_seed_all(777)"
      ],
      "execution_count": null,
      "outputs": []
    },
    {
      "cell_type": "code",
      "metadata": {
        "id": "zFzfAnN8wadX",
        "colab_type": "code",
        "colab": {
          "base_uri": "https://localhost:8080/",
          "height": 241
        },
        "outputId": "a98344cf-426c-4ea8-c19f-4f10e4ebc10d"
      },
      "source": [
        "transform = transforms.Compose([\n",
        "        transforms.ToTensor(),\n",
        "        transforms.Normalize((0.5, 0.5, 0.5), (0.5, 0.5, 0.5)),\n",
        "        transforms.RandomHorizontalFlip()\n",
        "     ])\n",
        "\n",
        "trainset = torchvision.datasets.CIFAR10(root='./cifar10', train=True,\n",
        "                                        download=True, transform=transform)\n",
        "trainloader = torch.utils.data.DataLoader(trainset, batch_size=512,\n",
        "                                          shuffle=True, num_workers=0)\n",
        "\n",
        "testset = torchvision.datasets.CIFAR10(root='./cifar10', train=False,\n",
        "                                       download=True, transform=transform)\n",
        "\n",
        "testloader = torch.utils.data.DataLoader(testset, batch_size=4,\n",
        "                                         shuffle=False, num_workers=0)\n",
        "\n",
        "classes = ('plane', 'car', 'bird', 'cat',\n",
        "           'deer', 'dog', 'frog', 'horse', 'ship', 'truck')"
      ],
      "execution_count": 1,
      "outputs": [
        {
          "output_type": "error",
          "ename": "NameError",
          "evalue": "ignored",
          "traceback": [
            "\u001b[0;31m---------------------------------------------------------------------------\u001b[0m",
            "\u001b[0;31mNameError\u001b[0m                                 Traceback (most recent call last)",
            "\u001b[0;32m<ipython-input-1-6a3848229313>\u001b[0m in \u001b[0;36m<module>\u001b[0;34m()\u001b[0m\n\u001b[0;32m----> 1\u001b[0;31m transform = transforms.Compose([\n\u001b[0m\u001b[1;32m      2\u001b[0m         \u001b[0mtransforms\u001b[0m\u001b[0;34m.\u001b[0m\u001b[0mToTensor\u001b[0m\u001b[0;34m(\u001b[0m\u001b[0;34m)\u001b[0m\u001b[0;34m,\u001b[0m\u001b[0;34m\u001b[0m\u001b[0;34m\u001b[0m\u001b[0m\n\u001b[1;32m      3\u001b[0m         \u001b[0mtransforms\u001b[0m\u001b[0;34m.\u001b[0m\u001b[0mNormalize\u001b[0m\u001b[0;34m(\u001b[0m\u001b[0;34m(\u001b[0m\u001b[0;36m0.5\u001b[0m\u001b[0;34m,\u001b[0m \u001b[0;36m0.5\u001b[0m\u001b[0;34m,\u001b[0m \u001b[0;36m0.5\u001b[0m\u001b[0;34m)\u001b[0m\u001b[0;34m,\u001b[0m \u001b[0;34m(\u001b[0m\u001b[0;36m0.5\u001b[0m\u001b[0;34m,\u001b[0m \u001b[0;36m0.5\u001b[0m\u001b[0;34m,\u001b[0m \u001b[0;36m0.5\u001b[0m\u001b[0;34m)\u001b[0m\u001b[0;34m)\u001b[0m\u001b[0;34m,\u001b[0m\u001b[0;34m\u001b[0m\u001b[0;34m\u001b[0m\u001b[0m\n\u001b[1;32m      4\u001b[0m         \u001b[0mtransforms\u001b[0m\u001b[0;34m.\u001b[0m\u001b[0mRandomHorizontalFlip\u001b[0m\u001b[0;34m(\u001b[0m\u001b[0;34m)\u001b[0m\u001b[0;34m\u001b[0m\u001b[0;34m\u001b[0m\u001b[0m\n\u001b[1;32m      5\u001b[0m      ])\n",
            "\u001b[0;31mNameError\u001b[0m: name 'transforms' is not defined"
          ]
        }
      ]
    },
    {
      "cell_type": "code",
      "metadata": {
        "id": "kWFPMCDqwcxj",
        "colab_type": "code",
        "colab": {
          "base_uri": "https://localhost:8080/",
          "height": 304
        },
        "outputId": "b65f6042-6734-42a5-9d6d-2ae11ec5c1f8"
      },
      "source": [
        "import matplotlib.pyplot as plt\n",
        "import numpy as np\n",
        "%matplotlib inline\n",
        "# functions to show an image\n",
        "\n",
        "\n",
        "def imshow(img):\n",
        "    img = img / 2 + 0.5     # unnormalize\n",
        "    npimg = img.numpy()\n",
        "    plt.imshow(np.transpose(npimg, (1, 2, 0)))\n",
        "    plt.show()\n",
        "\n",
        "\n",
        "# get some random training images\n",
        "dataiter = iter(trainloader)\n",
        "images, labels = dataiter.next()\n",
        "#vis.images(images/2 + 0.5)\n",
        "\n",
        "# show images\n",
        "imshow(torchvision.utils.make_grid(images))\n",
        "\n",
        "# print labels\n",
        "print(' '.join('%5s' % classes[labels[j]] for j in range(4)))"
      ],
      "execution_count": null,
      "outputs": [
        {
          "output_type": "stream",
          "text": [
            "\n"
          ],
          "name": "stdout"
        },
        {
          "output_type": "display_data",
          "data": {
            "image/png": "[encoded data removed]",
            "text/plain": [
              "<Figure size 432x288 with 1 Axes>"
            ]
          },
          "metadata": {
            "tags": [],
            "needs_background": "light"
          }
        },
        {
          "output_type": "stream",
          "text": [
            "truck   dog horse truck\n"
          ],
          "name": "stdout"
        }
      ]
    },
    {
      "cell_type": "code",
      "metadata": {
        "id": "4p1vSbIPwjjg",
        "colab_type": "code",
        "colab": {}
      },
      "source": [
        "import torchvision.models.vgg as vgg"
      ],
      "execution_count": null,
      "outputs": []
    },
    {
      "cell_type": "code",
      "metadata": {
        "id": "QAYfMSfDxC29",
        "colab_type": "code",
        "colab": {}
      },
      "source": [
        "cfg = [32,32,'M', 64,64,128,128,128,'M',256,256,256,512,512,512,'M'] #13 + 3 =vgg16"
      ],
      "execution_count": null,
      "outputs": []
    },
    {
      "cell_type": "code",
      "metadata": {
        "id": "mvF5l90hxFFL",
        "colab_type": "code",
        "colab": {}
      },
      "source": [
        "class VGG(nn.Module):\n",
        "\n",
        "    def __init__(self, features, num_classes=1000, init_weights=True):\n",
        "        super(VGG, self).__init__()\n",
        "        self.features = features\n",
        "        self.avgpool = nn.AdaptiveAvgPool2d((7, 7))\n",
        "        self.classifier = nn.Sequential(\n",
        "            nn.Linear(512 * 4 * 4, 4096), #\n",
        "            nn.ReLU(True),\n",
        "            nn.Dropout(),\n",
        "            nn.Linear(4096, 4096), #\n",
        "            nn.ReLU(True),\n",
        "            nn.Dropout(),\n",
        "            nn.Linear(4096, num_classes), #\n",
        "        )\n",
        "        if init_weights:\n",
        "            self._initialize_weights()\n",
        "\n",
        "    def forward(self, x):\n",
        "        x = self.features(x)\n",
        "        #x = self.avgpool(x)\n",
        "        x = x.view(x.size(0), -1)\n",
        "        x = self.classifier(x)\n",
        "        return x\n",
        "\n",
        "    def _initialize_weights(self):\n",
        "        for m in self.modules():\n",
        "            if isinstance(m, nn.Conv2d):\n",
        "                nn.init.kaiming_normal_(m.weight, mode='fan_out', nonlinearity='relu')\n",
        "                if m.bias is not None:\n",
        "                    nn.init.constant_(m.bias, 0)\n",
        "            elif isinstance(m, nn.BatchNorm2d):\n",
        "                nn.init.constant_(m.weight, 1)\n",
        "                nn.init.constant_(m.bias, 0)\n",
        "            elif isinstance(m, nn.Linear):\n",
        "                nn.init.normal_(m.weight, 0, 0.01)\n",
        "                nn.init.constant_(m.bias, 0)"
      ],
      "execution_count": null,
      "outputs": []
    },
    {
      "cell_type": "code",
      "metadata": {
        "id": "vovCafIjxHvp",
        "colab_type": "code",
        "colab": {}
      },
      "source": [
        "vgg16= VGG(vgg.make_layers(cfg),10,True).to(device)"
      ],
      "execution_count": null,
      "outputs": []
    },
    {
      "cell_type": "code",
      "metadata": {
        "id": "yslksGPLyzBI",
        "colab_type": "code",
        "colab": {
          "base_uri": "https://localhost:8080/",
          "height": 781
        },
        "outputId": "4577acd0-13c5-4620-b83f-7fe22d514cd6"
      },
      "source": [
        "vgg16"
      ],
      "execution_count": null,
      "outputs": [
        {
          "output_type": "execute_result",
          "data": {
            "text/plain": [
              "VGG(\n",
              "  (features): Sequential(\n",
              "    (0): Conv2d(3, 32, kernel_size=(3, 3), stride=(1, 1), padding=(1, 1))\n",
              "    (1): ReLU(inplace=True)\n",
              "    (2): Conv2d(32, 32, kernel_size=(3, 3), stride=(1, 1), padding=(1, 1))\n",
              "    (3): ReLU(inplace=True)\n",
              "    (4): MaxPool2d(kernel_size=2, stride=2, padding=0, dilation=1, ceil_mode=False)\n",
              "    (5): Conv2d(32, 64, kernel_size=(3, 3), stride=(1, 1), padding=(1, 1))\n",
              "    (6): ReLU(inplace=True)\n",
              "    (7): Conv2d(64, 64, kernel_size=(3, 3), stride=(1, 1), padding=(1, 1))\n",
              "    (8): ReLU(inplace=True)\n",
              "    (9): Conv2d(64, 128, kernel_size=(3, 3), stride=(1, 1), padding=(1, 1))\n",
              "    (10): ReLU(inplace=True)\n",
              "    (11): Conv2d(128, 128, kernel_size=(3, 3), stride=(1, 1), padding=(1, 1))\n",
              "    (12): ReLU(inplace=True)\n",
              "    (13): Conv2d(128, 128, kernel_size=(3, 3), stride=(1, 1), padding=(1, 1))\n",
              "    (14): ReLU(inplace=True)\n",
              "    (15): MaxPool2d(kernel_size=2, stride=2, padding=0, dilation=1, ceil_mode=False)\n",
              "    (16): Conv2d(128, 256, kernel_size=(3, 3), stride=(1, 1), padding=(1, 1))\n",
              "    (17): ReLU(inplace=True)\n",
              "    (18): Conv2d(256, 256, kernel_size=(3, 3), stride=(1, 1), padding=(1, 1))\n",
              "    (19): ReLU(inplace=True)\n",
              "    (20): Conv2d(256, 256, kernel_size=(3, 3), stride=(1, 1), padding=(1, 1))\n",
              "    (21): ReLU(inplace=True)\n",
              "    (22): Conv2d(256, 512, kernel_size=(3, 3), stride=(1, 1), padding=(1, 1))\n",
              "    (23): ReLU(inplace=True)\n",
              "    (24): Conv2d(512, 512, kernel_size=(3, 3), stride=(1, 1), padding=(1, 1))\n",
              "    (25): ReLU(inplace=True)\n",
              "    (26): Conv2d(512, 512, kernel_size=(3, 3), stride=(1, 1), padding=(1, 1))\n",
              "    (27): ReLU(inplace=True)\n",
              "    (28): MaxPool2d(kernel_size=2, stride=2, padding=0, dilation=1, ceil_mode=False)\n",
              "  )\n",
              "  (avgpool): AdaptiveAvgPool2d(output_size=(7, 7))\n",
              "  (classifier): Sequential(\n",
              "    (0): Linear(in_features=8192, out_features=4096, bias=True)\n",
              "    (1): ReLU(inplace=True)\n",
              "    (2): Dropout(p=0.5, inplace=False)\n",
              "    (3): Linear(in_features=4096, out_features=4096, bias=True)\n",
              "    (4): ReLU(inplace=True)\n",
              "    (5): Dropout(p=0.5, inplace=False)\n",
              "    (6): Linear(in_features=4096, out_features=10, bias=True)\n",
              "  )\n",
              ")"
            ]
          },
          "metadata": {
            "tags": []
          },
          "execution_count": 10
        }
      ]
    },
    {
      "cell_type": "code",
      "metadata": {
        "id": "gPD_hFxPxWwK",
        "colab_type": "code",
        "colab": {
          "base_uri": "https://localhost:8080/",
          "height": 52
        },
        "outputId": "a43ea7a5-794e-4326-dd25-ccc7efc3d05e"
      },
      "source": [
        "a=torch.Tensor(1,3,32,32).to(device)\n",
        "out = vgg16(a)\n",
        "print(out)"
      ],
      "execution_count": null,
      "outputs": [
        {
          "output_type": "stream",
          "text": [
            "tensor([[ 3.9332, -2.3850,  1.6156, -0.2400,  0.6079, -0.8952, -0.9483, -1.9288,\n",
            "          2.4499, -1.9844]], device='cuda:0', grad_fn=<AddmmBackward>)\n"
          ],
          "name": "stdout"
        }
      ]
    },
    {
      "cell_type": "code",
      "metadata": {
        "id": "99McK8zPxX6E",
        "colab_type": "code",
        "colab": {}
      },
      "source": [
        "criterion = nn.CrossEntropyLoss().to(device)\n",
        "optimizer = torch.optim.SGD(vgg16.parameters(), lr = 0.0005,momentum=0.9)\n",
        "\n",
        "lr_sche = optim.lr_scheduler.StepLR(optimizer, step_size=5, gamma=0.9)"
      ],
      "execution_count": null,
      "outputs": []
    },
    {
      "cell_type": "code",
      "metadata": {
        "id": "PnPWyYGAx11X",
        "colab_type": "code",
        "colab": {
          "base_uri": "https://localhost:8080/",
          "height": 1000
        },
        "outputId": "1090ab81-4ddc-4b60-f834-69ec0306123a"
      },
      "source": [
        "print(len(trainloader))\n",
        "epochs = 200\n",
        "\n",
        "for epoch in range(epochs):  # loop over the dataset multiple times\n",
        "    running_loss = 0.0\n",
        "  \n",
        "    for i, data in enumerate(trainloader, 0):\n",
        "        # get the inputs\n",
        "        inputs, labels = data\n",
        "        inputs = inputs.to(device)\n",
        "        labels = labels.to(device)\n",
        "\n",
        "        # zero the parameter gradients\n",
        "        optimizer.zero_grad()\n",
        "\n",
        "        # forward + backward + optimize\n",
        "        outputs = vgg16(inputs)\n",
        "        loss = criterion(outputs, labels)\n",
        "        loss.backward()\n",
        "        optimizer.step()\n",
        "\n",
        "        # print statistics\n",
        "        running_loss += loss.item()\n",
        "        if i % 30 == 29:    # print every 30 mini-batches            \n",
        "            print('[%d, %5d] loss: %.3f' %(epoch + 1, i + 1, running_loss / 30))\n",
        "            running_loss = 0.0\n",
        "\n",
        "print('Finished Training')"
      ],
      "execution_count": null,
      "outputs": [
        {
          "output_type": "stream",
          "text": [
            "98\n",
            "[1,    30] loss: 1.580\n",
            "[1,    60] loss: 1.556\n",
            "[1,    90] loss: 1.531\n",
            "[2,    30] loss: 1.502\n",
            "[2,    60] loss: 1.454\n",
            "[2,    90] loss: 1.431\n",
            "[3,    30] loss: 1.409\n",
            "[3,    60] loss: 1.367\n",
            "[3,    90] loss: 1.332\n",
            "[4,    30] loss: 1.303\n",
            "[4,    60] loss: 1.327\n",
            "[4,    90] loss: 1.278\n",
            "[5,    30] loss: 1.221\n",
            "[5,    60] loss: 1.226\n",
            "[5,    90] loss: 1.187\n",
            "[6,    30] loss: 1.155\n",
            "[6,    60] loss: 1.090\n",
            "[6,    90] loss: 1.170\n",
            "[7,    30] loss: 1.077\n",
            "[7,    60] loss: 1.067\n",
            "[7,    90] loss: 1.042\n",
            "[8,    30] loss: 0.974\n",
            "[8,    60] loss: 1.003\n",
            "[8,    90] loss: 0.988\n",
            "[9,    30] loss: 0.939\n",
            "[9,    60] loss: 0.932\n",
            "[9,    90] loss: 0.942\n",
            "[10,    30] loss: 0.879\n",
            "[10,    60] loss: 0.883\n",
            "[10,    90] loss: 0.893\n",
            "[11,    30] loss: 0.853\n",
            "[11,    60] loss: 0.832\n",
            "[11,    90] loss: 0.843\n",
            "[12,    30] loss: 0.785\n",
            "[12,    60] loss: 0.796\n",
            "[12,    90] loss: 0.793\n",
            "[13,    30] loss: 0.766\n",
            "[13,    60] loss: 0.757\n",
            "[13,    90] loss: 0.766\n",
            "[14,    30] loss: 0.692\n",
            "[14,    60] loss: 0.691\n",
            "[14,    90] loss: 0.710\n",
            "[15,    30] loss: 0.666\n",
            "[15,    60] loss: 0.678\n",
            "[15,    90] loss: 0.674\n",
            "[16,    30] loss: 0.627\n",
            "[16,    60] loss: 0.626\n",
            "[16,    90] loss: 0.632\n",
            "[17,    30] loss: 0.599\n",
            "[17,    60] loss: 0.582\n",
            "[17,    90] loss: 0.600\n",
            "[18,    30] loss: 0.537\n",
            "[18,    60] loss: 0.542\n",
            "[18,    90] loss: 0.543\n",
            "[19,    30] loss: 0.508\n",
            "[19,    60] loss: 0.513\n",
            "[19,    90] loss: 0.529\n",
            "[20,    30] loss: 0.464\n",
            "[20,    60] loss: 0.474\n",
            "[20,    90] loss: 0.475\n",
            "[21,    30] loss: 0.413\n",
            "[21,    60] loss: 0.417\n",
            "[21,    90] loss: 0.441\n",
            "[22,    30] loss: 0.393\n",
            "[22,    60] loss: 0.393\n",
            "[22,    90] loss: 0.419\n",
            "[23,    30] loss: 0.350\n",
            "[23,    60] loss: 0.349\n",
            "[23,    90] loss: 0.356\n",
            "[24,    30] loss: 0.293\n",
            "[24,    60] loss: 0.318\n",
            "[24,    90] loss: 0.336\n",
            "[25,    30] loss: 0.257\n",
            "[25,    60] loss: 0.264\n",
            "[25,    90] loss: 0.293\n",
            "[26,    30] loss: 0.229\n",
            "[26,    60] loss: 0.247\n",
            "[26,    90] loss: 0.243\n",
            "[27,    30] loss: 0.195\n",
            "[27,    60] loss: 0.222\n",
            "[27,    90] loss: 0.225\n",
            "[28,    30] loss: 0.177\n",
            "[28,    60] loss: 0.210\n",
            "[28,    90] loss: 0.208\n",
            "[29,    30] loss: 0.154\n",
            "[29,    60] loss: 0.175\n",
            "[29,    90] loss: 0.178\n",
            "[30,    30] loss: 0.156\n",
            "[30,    60] loss: 0.181\n",
            "[30,    90] loss: 0.165\n",
            "[31,    30] loss: 0.115\n",
            "[31,    60] loss: 0.130\n",
            "[31,    90] loss: 0.134\n",
            "[32,    30] loss: 0.095\n",
            "[32,    60] loss: 0.109\n",
            "[32,    90] loss: 0.117\n",
            "[33,    30] loss: 0.092\n",
            "[33,    60] loss: 0.112\n",
            "[33,    90] loss: 0.120\n",
            "[34,    30] loss: 0.092\n",
            "[34,    60] loss: 0.094\n",
            "[34,    90] loss: 0.097\n",
            "[35,    30] loss: 0.080\n",
            "[35,    60] loss: 0.078\n",
            "[35,    90] loss: 0.091\n",
            "[36,    30] loss: 0.071\n",
            "[36,    60] loss: 0.081\n",
            "[36,    90] loss: 0.080\n",
            "[37,    30] loss: 0.060\n",
            "[37,    60] loss: 0.072\n",
            "[37,    90] loss: 0.069\n",
            "[38,    30] loss: 0.050\n",
            "[38,    60] loss: 0.069\n",
            "[38,    90] loss: 0.092\n",
            "[39,    30] loss: 0.056\n",
            "[39,    60] loss: 0.057\n",
            "[39,    90] loss: 0.060\n",
            "[40,    30] loss: 0.043\n",
            "[40,    60] loss: 0.050\n",
            "[40,    90] loss: 0.070\n",
            "[41,    30] loss: 0.051\n",
            "[41,    60] loss: 0.046\n",
            "[41,    90] loss: 0.048\n",
            "[42,    30] loss: 0.049\n",
            "[42,    60] loss: 0.047\n",
            "[42,    90] loss: 0.042\n",
            "[43,    30] loss: 0.045\n",
            "[43,    60] loss: 0.051\n",
            "[43,    90] loss: 0.049\n",
            "[44,    30] loss: 0.043\n",
            "[44,    60] loss: 0.042\n",
            "[44,    90] loss: 0.038\n",
            "[45,    30] loss: 0.030\n",
            "[45,    60] loss: 0.033\n",
            "[45,    90] loss: 0.031\n",
            "[46,    30] loss: 0.040\n",
            "[46,    60] loss: 0.043\n",
            "[46,    90] loss: 0.030\n",
            "[47,    30] loss: 0.026\n",
            "[47,    60] loss: 0.036\n",
            "[47,    90] loss: 0.046\n",
            "[48,    30] loss: 0.035\n",
            "[48,    60] loss: 0.029\n",
            "[48,    90] loss: 0.029\n",
            "[49,    30] loss: 0.039\n",
            "[49,    60] loss: 0.034\n",
            "[49,    90] loss: 0.029\n",
            "[50,    30] loss: 0.027\n",
            "[50,    60] loss: 0.031\n",
            "[50,    90] loss: 0.038\n",
            "Finished Training\n"
          ],
          "name": "stdout"
        }
      ]
    },
    {
      "cell_type": "code",
      "metadata": {
        "id": "9i4r0dvpx8wH",
        "colab_type": "code",
        "colab": {
          "base_uri": "https://localhost:8080/",
          "height": 155
        },
        "outputId": "f3cbaa3e-af38-4310-b5ae-c6bc5598fc02"
      },
      "source": [
        "dataiter = iter(testloader)\n",
        "images, labels = dataiter.next()\n",
        "\n",
        "# print images\n",
        "imshow(torchvision.utils.make_grid(images))\n",
        "print('GroundTruth: ', ' '.join('%5s' % classes[labels[j]] for j in range(4)))"
      ],
      "execution_count": null,
      "outputs": [
        {
          "output_type": "display_data",
          "data": {
            "image/png": "[encoded data removed]",
            "text/plain": [
              "<Figure size 432x288 with 1 Axes>"
            ]
          },
          "metadata": {
            "tags": [],
            "needs_background": "light"
          }
        },
        {
          "output_type": "stream",
          "text": [
            "GroundTruth:    cat  ship  ship plane\n"
          ],
          "name": "stdout"
        }
      ]
    },
    {
      "cell_type": "code",
      "metadata": {
        "id": "94ombXx-yRMj",
        "colab_type": "code",
        "colab": {}
      },
      "source": [
        "outputs = vgg16(images.to(device))"
      ],
      "execution_count": null,
      "outputs": []
    },
    {
      "cell_type": "code",
      "metadata": {
        "id": "CvVF8OUxyTm7",
        "colab_type": "code",
        "colab": {
          "base_uri": "https://localhost:8080/",
          "height": 34
        },
        "outputId": "c1195486-00b5-4fd8-fead-1ce56f832c16"
      },
      "source": [
        "_, predicted = torch.max(outputs, 1)\n",
        "\n",
        "print('Predicted: ', ' '.join('%5s' % classes[predicted[j]]\n",
        "                              for j in range(4)))"
      ],
      "execution_count": null,
      "outputs": [
        {
          "output_type": "stream",
          "text": [
            "Predicted:    cat  ship  ship plane\n"
          ],
          "name": "stdout"
        }
      ]
    },
    {
      "cell_type": "code",
      "metadata": {
        "id": "omzJS5pFyVBH",
        "colab_type": "code",
        "colab": {
          "base_uri": "https://localhost:8080/",
          "height": 34
        },
        "outputId": "b737c740-dab6-428c-e2d2-aabb7a5022e0"
      },
      "source": [
        "correct = 0\n",
        "total = 0\n",
        "\n",
        "with torch.no_grad():\n",
        "    for data in testloader:\n",
        "        images, labels = data\n",
        "        images = images.to(device)\n",
        "        labels = labels.to(device)\n",
        "        outputs = vgg16(images)\n",
        "        \n",
        "        _, predicted = torch.max(outputs.data, 1)\n",
        "        \n",
        "        total += labels.size(0)\n",
        "        \n",
        "        correct += (predicted == labels).sum().item()\n",
        "\n",
        "print('Accuracy of the network on the 10000 test images: %d %%' % (100 * correct / total))"
      ],
      "execution_count": null,
      "outputs": [
        {
          "output_type": "stream",
          "text": [
            "Accuracy of the network on the 10000 test images: 77 %\n"
          ],
          "name": "stdout"
        }
      ]
    }
  ]
}